{
 "cells": [
  {
   "cell_type": "code",
   "execution_count": 3,
   "metadata": {},
   "outputs": [],
   "source": [
    "import random\n",
    "import numpy as np\n",
    "import matplotlib.pyplot as plt\n",
    "from functools import reduce "
   ]
  },
  {
   "cell_type": "code",
   "execution_count": 4,
   "metadata": {},
   "outputs": [
    {
     "ename": "SyntaxError",
     "evalue": "invalid syntax (<ipython-input-4-fb0314fa0a50>, line 12)",
     "output_type": "error",
     "traceback": [
      "\u001b[1;36m  File \u001b[1;32m\"<ipython-input-4-fb0314fa0a50>\"\u001b[1;36m, line \u001b[1;32m12\u001b[0m\n\u001b[1;33m    x = met_cong(round(time.time()107), 1103515245, 12345, 2*31-1, n+1)[1:]\u001b[0m\n\u001b[1;37m                                    ^\u001b[0m\n\u001b[1;31mSyntaxError\u001b[0m\u001b[1;31m:\u001b[0m invalid syntax\n"
     ]
    }
   ],
   "source": [
    "uad = [2,3,4] #tamaño de cuadrillas\n",
    "media = [4,3,2] #media de cuadrillas\n",
    "\n",
    "### Método Congruencial\n",
    "def met_cong(x0:\"Semilla inicial\",a:\"Multiplicador\",b:\"Incremento\", m:\"Módulo\", n:\"Número de elementos\"):\n",
    "    '''Esta función contiene la programación del método congruencial para la sucesión x_n = (ax_{n−1} + b) mod m'''\n",
    "    N = np.arange(n)\n",
    "    return ((a*N * x0 + b * ((a*N-1)/(a-1))) % m)/m\n",
    "###Distribución Uniforme Aleatoria Entre 2 Valores\n",
    "def rand_uni_bet(n:\"Cantidad de números aleatorios deseados\",a:\"límite inferior\",b:\"límite inferior\"):\n",
    "    '''Esta función genera \"n\" números aleatorios distribuidos de forma uniforme entre 2 números dados'''\n",
    "    x = met_cong(round(time.time()107), 1103515245, 12345, 2*31-1, n+1)[1:]\n",
    "    xab = (b-a)*x+a #Desplazamiento de números aleatorios\n",
    "    return xab"
   ]
  },
  {
   "cell_type": "code",
   "execution_count": 5,
   "metadata": {},
   "outputs": [
    {
     "ename": "NameError",
     "evalue": "name 'rand_uni_bet' is not defined",
     "output_type": "error",
     "traceback": [
      "\u001b[1;31m---------------------------------------------------------------------------\u001b[0m",
      "\u001b[1;31mNameError\u001b[0m                                 Traceback (most recent call last)",
      "\u001b[1;32m<ipython-input-5-1fb63b583250>\u001b[0m in \u001b[0;36m<module>\u001b[1;34m()\u001b[0m\n\u001b[0;32m      2\u001b[0m \u001b[1;31m### Distribuciones\u001b[0m\u001b[1;33m\u001b[0m\u001b[1;33m\u001b[0m\u001b[0m\n\u001b[0;32m      3\u001b[0m \u001b[1;31m#Distribución de tiempo requerido por la cuadrilla 1 para reparar una máquina\u001b[0m\u001b[1;33m\u001b[0m\u001b[1;33m\u001b[0m\u001b[0m\n\u001b[1;32m----> 4\u001b[1;33m \u001b[0mcuad1\u001b[0m \u001b[1;33m=\u001b[0m \u001b[0mrand_uni_bet\u001b[0m\u001b[1;33m(\u001b[0m\u001b[0msim\u001b[0m\u001b[1;33m,\u001b[0m\u001b[1;36m0\u001b[0m\u001b[1;33m,\u001b[0m\u001b[1;36m2\u001b[0m\u001b[1;33m*\u001b[0m\u001b[0mmedia\u001b[0m\u001b[1;33m[\u001b[0m\u001b[1;36m0\u001b[0m\u001b[1;33m]\u001b[0m\u001b[1;33m)\u001b[0m\u001b[1;31m#Generación de (n) números aleatorios entre 0 y 2 veces la media de la cuadrilla 1\u001b[0m\u001b[1;33m\u001b[0m\u001b[0m\n\u001b[0m\u001b[0;32m      5\u001b[0m \u001b[1;31m#Distribución de tiempo requerido por la cuadrilla 2 para reparar una máquina\u001b[0m\u001b[1;33m\u001b[0m\u001b[1;33m\u001b[0m\u001b[0m\n\u001b[0;32m      6\u001b[0m \u001b[0mcuad2\u001b[0m \u001b[1;33m=\u001b[0m \u001b[0mrand_uni_bet\u001b[0m\u001b[1;33m(\u001b[0m\u001b[0msim\u001b[0m\u001b[1;33m,\u001b[0m\u001b[1;36m0\u001b[0m\u001b[1;33m,\u001b[0m\u001b[1;36m2\u001b[0m\u001b[1;33m*\u001b[0m\u001b[0mmedia\u001b[0m\u001b[1;33m[\u001b[0m\u001b[1;36m1\u001b[0m\u001b[1;33m]\u001b[0m\u001b[1;33m)\u001b[0m\u001b[1;31m#Generación de (n) números aleatorios entre 0 y 2 veces la media de la cuadrilla 2\u001b[0m\u001b[1;33m\u001b[0m\u001b[0m\n",
      "\u001b[1;31mNameError\u001b[0m: name 'rand_uni_bet' is not defined"
     ]
    }
   ],
   "source": [
    "sim = 100000 #simulaciones\n",
    "### Distribuciones\n",
    "#Distribución de tiempo requerido por la cuadrilla 1 para reparar una máquina\n",
    "cuad1 = rand_uni_bet(sim,0,2*media[0])#Generación de (n) números aleatorios entre 0 y 2 veces la media de la cuadrilla 1\n",
    "#Distribución de tiempo requerido por la cuadrilla 2 para reparar una máquina\n",
    "cuad2 = rand_uni_bet(sim,0,2*media[1])#Generación de (n) números aleatorios entre 0 y 2 veces la media de la cuadrilla 2\n",
    "#Distribución de tiempo requerido por la cuadrilla 3 para reparar una máquina\n",
    "cuad3 = rand_uni_bet(sim,0,2*media[2])#Generación de (n) números aleatorios entre 0 y 2 veces la media de la cuadrilla 3\n",
    "#Distribución de las interrupciones de alguna máquina\n",
    "distr_interrupt = rand_uni_bet(100000,3.5,9)#Generación de (n) números aleatorios entre 3.5 y 9"
   ]
  },
  {
   "cell_type": "code",
   "execution_count": null,
   "metadata": {},
   "outputs": [],
   "source": [
    "t_esp = [cuad1[0]] #vector para ingresar tiempo de espera\n",
    "tempcuad = cuad1[0] #se inicializa con el tiempo de reparar la primera maquina\n",
    "for j in range(sim-1): #ciclo con simulaciones\n",
    "    tempcuad += cuad1[j+1] - distr_interrupt[j] #se suman los tiempos de espera\n",
    "    if tempcuad <= 0: # si el tiempo de espera es negativo, se vuelve 0\n",
    "        tempcuad = 0\n",
    "        t_esp.append(tempcuad) #se agrega al vector de tiempo de espera\n",
    "    else:\n",
    "        t_esp.append(tempcuad)#se agrega al vector de tiempo de espera\n",
    "t_esp_prom = np.mean(t_esp)#promedio de tiempo de espera\n",
    "t_esp_sup8 = len(list(filter(lambda x: x>8,t_esp)))/len(t_esp)#tiempo de espera superior a 8\n",
    "print('La probabilidad de que una máquina tenga que esperar más de 8 horas para ser reparada por una cuadrilla de 2 personas es: ',t_esp_sup8)\n",
    "plt.hist(t_esp)\n",
    "plt.xlabel('Tiempo de Espera en Horas')\n",
    "plt.ylabel('Frecuencia')\n",
    "plt.title('Tiempo de Espera de Reparación de Máquinas por una cuadrilla de 2 Personas')\n",
    "plt.show()"
   ]
  },
  {
   "cell_type": "code",
   "execution_count": null,
   "metadata": {},
   "outputs": [],
   "source": []
  }
 ],
 "metadata": {
  "kernelspec": {
   "display_name": "Python 3",
   "language": "python",
   "name": "python3"
  },
  "language_info": {
   "codemirror_mode": {
    "name": "ipython",
    "version": 3
   },
   "file_extension": ".py",
   "mimetype": "text/x-python",
   "name": "python",
   "nbconvert_exporter": "python",
   "pygments_lexer": "ipython3",
   "version": "3.6.5"
  }
 },
 "nbformat": 4,
 "nbformat_minor": 2
}
