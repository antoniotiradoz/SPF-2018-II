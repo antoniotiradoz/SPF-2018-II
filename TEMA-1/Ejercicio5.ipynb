{
 "cells": [
  {
   "cell_type": "code",
   "execution_count": 92,
   "metadata": {},
   "outputs": [],
   "source": [
    "import random\n",
    "import numpy as np\n",
    "import matplotlib.pyplot as plt\n",
    "from functools import reduce \n",
    "import statistics as stats\n",
    "from random import randint\n",
    "from random import randrange"
   ]
  },
  {
   "cell_type": "code",
   "execution_count": 43,
   "metadata": {},
   "outputs": [],
   "source": [
    "capital=300000"
   ]
  },
  {
   "cell_type": "code",
   "execution_count": 102,
   "metadata": {},
   "outputs": [
    {
     "name": "stdout",
     "output_type": "stream",
     "text": [
      "[-34480.17911483  35585.93995069  81741.61135162 ... -28236.35766382\n",
      "  26844.82792058  46622.63150235]\n"
     ]
    }
   ],
   "source": [
    "r=np.random.normal(.08,.12,10000)\n",
    "rend=capital*r\n",
    "print(rend)"
   ]
  },
  {
   "cell_type": "code",
   "execution_count": 103,
   "metadata": {},
   "outputs": [
    {
     "name": "stdout",
     "output_type": "stream",
     "text": [
      "24160.24719918311\n",
      "35853.67206911558\n"
     ]
    }
   ],
   "source": [
    "print (np.mean(rend))#media\n",
    "print(stats.stdev(rend)) \n"
   ]
  },
  {
   "cell_type": "code",
   "execution_count": 104,
   "metadata": {},
   "outputs": [
    {
     "data": {
      "image/png": "[encoded data removed]",
      "text/plain": [
       "<Figure size 432x288 with 1 Axes>"
      ]
     },
     "metadata": {},
     "output_type": "display_data"
    }
   ],
   "source": [
    "plt.hist(rend,100)\n",
    "plt.show()"
   ]
  },
  {
   "cell_type": "code",
   "execution_count": 105,
   "metadata": {},
   "outputs": [
    {
     "name": "stdout",
     "output_type": "stream",
     "text": [
      "[ 144203.36838541  587781.98036542 1273534.57635371 ...  165783.70982282\n",
      "  501699.22273574  713732.0787249 ]\n"
     ]
    }
   ],
   "source": [
    "rend6=(capital*(1+r)**6)\n",
    "print(rend6)"
   ]
  },
  {
   "cell_type": "code",
   "execution_count": 106,
   "metadata": {},
   "outputs": [
    {
     "name": "stdout",
     "output_type": "stream",
     "text": [
      "568327.8018942636\n",
      "381871.6899377487\n"
     ]
    },
    {
     "data": {
      "image/png": "[encoded data removed]",
      "text/plain": [
       "<Figure size 432x288 with 1 Axes>"
      ]
     },
     "metadata": {},
     "output_type": "display_data"
    }
   ],
   "source": [
    "print (np.mean(rend6))#media\n",
    "print(stats.stdev(rend6)) \n",
    "plt.hist(rend6,100)\n",
    "plt.show()"
   ]
  },
  {
   "cell_type": "code",
   "execution_count": 107,
   "metadata": {},
   "outputs": [
    {
     "name": "stdout",
     "output_type": "stream",
     "text": [
      "0.3795\n",
      "0.5856\n"
     ]
    }
   ],
   "source": [
    "resultmax = list(filter(lambda x: x>580000, rend6))\n",
    "resultmin = list(filter(lambda x: x<550000, rend6))\n",
    "probmax=len(resultmax)/10000\n",
    "probamin=len(resultmin)/10000\n",
    "print(probmax)\n",
    "print(probamin)\n"
   ]
  },
  {
   "cell_type": "code",
   "execution_count": 108,
   "metadata": {},
   "outputs": [
    {
     "name": "stdout",
     "output_type": "stream",
     "text": [
      "10\n"
     ]
    }
   ],
   "source": [
    "print(randrange(10,20,10))"
   ]
  },
  {
   "cell_type": "code",
   "execution_count": null,
   "metadata": {},
   "outputs": [],
   "source": []
  }
 ],
 "metadata": {
  "kernelspec": {
   "display_name": "Python 3",
   "language": "python",
   "name": "python3"
  },
  "language_info": {
   "codemirror_mode": {
    "name": "ipython",
    "version": 3
   },
   "file_extension": ".py",
   "mimetype": "text/x-python",
   "name": "python",
   "nbconvert_exporter": "python",
   "pygments_lexer": "ipython3",
   "version": "3.6.5"
  }
 },
 "nbformat": 4,
 "nbformat_minor": 2
}
