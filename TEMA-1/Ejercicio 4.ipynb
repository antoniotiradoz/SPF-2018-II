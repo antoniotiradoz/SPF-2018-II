{
 "cells": [
  {
   "cell_type": "code",
   "execution_count": 214,
   "metadata": {},
   "outputs": [],
   "source": [
    "import random\n",
    "import numpy as np\n",
    "import matplotlib.pyplot as plt\n",
    "from functools import reduce "
   ]
  },
  {
   "cell_type": "code",
   "execution_count": 216,
   "metadata": {},
   "outputs": [],
   "source": [
    "def dados_1():\n",
    "    dado1 =random.randint(1,6)\n",
    "    dado2=random.randint(1,6)\n",
    "    suma1= dado1+dado2\n",
    "    if suma1== 7 or suma1==11:\n",
    "        return True  \n",
    "    if suma1== 2  or suma1==3  or suma1==12:\n",
    "        return False \n",
    "    else:\n",
    "        dado1_1=random.randint(1,6)\n",
    "        dado2_2=random.randint(1,6)\n",
    "        suma2=dado1_1+dado2_2\n",
    "        if suma2==7:\n",
    "            return False\n",
    "        elif suma2==suma1:\n",
    "            return True \n",
    "        else: \n",
    "             return False \n"
   ]
  },
  {
   "cell_type": "code",
   "execution_count": 217,
   "metadata": {},
   "outputs": [
    {
     "name": "stdout",
     "output_type": "stream",
     "text": [
      "Ganamos 3047  veces y perdimos 6953  veces.\n"
     ]
    }
   ],
   "source": [
    "N = 10000\n",
    "contador_ganar = 0\n",
    "contador_perder = 0\n",
    "for i in range(N):\n",
    "        if dados_1():\n",
    "            contador_ganar +=1\n",
    "            #print('FELICIDADES!!!!!')\n",
    "        else:\n",
    "            contador_perder+=1\n",
    "            #print('Sigue intentando')\n",
    "               \n",
    "print(\"Ganamos\", contador_ganar, \" veces y perdimos\", contador_perder, \" veces.\")"
   ]
  },
  {
   "cell_type": "code",
   "execution_count": 245,
   "metadata": {},
   "outputs": [
    {
     "name": "stdout",
     "output_type": "stream",
     "text": [
      "Prbabilidad de ganar con 10000 simulaciones es\n",
      "0.3047\n"
     ]
    }
   ],
   "source": [
    "prob=contador_ganar/N\n",
    "print ('Prbabilidad de ganar con 10000 simulaciones es')\n",
    "print(prob)"
   ]
  },
  {
   "cell_type": "code",
   "execution_count": 224,
   "metadata": {},
   "outputs": [],
   "source": [
    "def apostador(cap_inicial, apuesta, n_apuestas):\n",
    "    capital = cap_inicial\n",
    "    ccapital = [capital]\n",
    "    for i in range(n_apuestas):\n",
    "        if dados_1():\n",
    "            capital += apuesta\n",
    "            ccapital.append(capital)\n",
    "        else:\n",
    "            capital -= apuesta\n",
    "            ccapital.append(capital)\n",
    "    return ccapital,capital\n"
   ]
  },
  {
   "cell_type": "code",
   "execution_count": 244,
   "metadata": {},
   "outputs": [
    {
     "name": "stdout",
     "output_type": "stream",
     "text": [
      "200\n"
     ]
    },
    {
     "data": {
      "image/png": "[encoded data removed]",
      "text/plain": [
       "<Figure size 432x288 with 1 Axes>"
      ]
     },
     "metadata": {},
     "output_type": "display_data"
    },
    {
     "name": "stdout",
     "output_type": "stream",
     "text": [
      "En promedio mi dinero fue: 377.27272727272725\n",
      "La probabilidad de ganar con 10 juegos es\n",
      "0.0\n"
     ]
    }
   ],
   "source": [
    "ccapital,capital = apostador(500, 50, 10)\n",
    "print(capital)\n",
    "plt.plot(ccapital)\n",
    "plt.show()\n",
    "print('En promedio mi dinero fue:',np.mean(ccapital))\n",
    "#prob10=dados_1()/10\n",
    "#print('La probabilidad de ganar con 10 juegos es')\n",
    "#print(prob10)"
   ]
  },
  {
   "cell_type": "code",
   "execution_count": null,
   "metadata": {},
   "outputs": [],
   "source": []
  }
 ],
 "metadata": {
  "kernelspec": {
   "display_name": "Python 3",
   "language": "python",
   "name": "python3"
  },
  "language_info": {
   "codemirror_mode": {
    "name": "ipython",
    "version": 3
   },
   "file_extension": ".py",
   "mimetype": "text/x-python",
   "name": "python",
   "nbconvert_exporter": "python",
   "pygments_lexer": "ipython3",
   "version": "3.6.5"
  }
 },
 "nbformat": 4,
 "nbformat_minor": 2
}
