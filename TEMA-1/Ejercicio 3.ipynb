{
 "cells": [
  {
   "cell_type": "code",
   "execution_count": 36,
   "metadata": {},
   "outputs": [],
   "source": [
    "import random\n",
    "import numpy as np\n",
    "import matplotlib.pyplot as plt\n",
    "from functools import reduce "
   ]
  },
  {
   "cell_type": "code",
   "execution_count": 33,
   "metadata": {},
   "outputs": [
    {
     "name": "stdout",
     "output_type": "stream",
     "text": [
      "[3.45261099 3.7353277  6.63003916 ... 5.17514274 2.13766725 2.03969538]\n",
      "[4.27668584 7.79963059 3.81531196 ... 4.37949044 5.22811102 6.18399868]\n"
     ]
    }
   ],
   "source": [
    "cuadrilla=[2,3,4]\n",
    "tiempo2=np.random.uniform(0,8,10000)\n",
    "tiempo3=np.random.uniform(0,6,10000)\n",
    "tiempo4=np.random.uniform(0,4,10000)\n",
    "tiempoi=np.random.uniform(3.5,9,10000)\n",
    "print(tiempo2)\n",
    "print(tiempoi)\n",
    "tiempo_final2 = list(map(lambda x,y: x-y , tiempo2, tiempoi))\n",
    "for i in range(len(tiempo_final2)):\n",
    "    if tiempo_final2[i]<0:\n",
    "        tiempo_final2[i]=0\n",
    "\n",
    "\n",
    "tiempo_final3 = list(map(lambda x,y: x-y , tiempo3, tiempoi))\n",
    "for i in range(len(tiempo_final3)):\n",
    "    if tiempo_final3[i]<0:\n",
    "        tiempo_final3[i]=0\n",
    "\n",
    "\n",
    "\n",
    "tiempo_final4 = list(map(lambda x,y: x-y , tiempo4, tiempoi))\n",
    "for i in range(len(tiempo_final2)):\n",
    "    if tiempo_final4[i]<0:\n",
    "        tiempo_final4[i]=0\n"
   ]
  },
  {
   "cell_type": "code",
   "execution_count": 38,
   "metadata": {},
   "outputs": [
    {
     "name": "stdout",
     "output_type": "stream",
     "text": [
      "El valor medio de espera para una maquina con una cuadrilla de 2 personas es de 0.3435860311928122\n",
      "La probabilidad de que una máquina tenga que esperar más de 8 horas para ser reparada por una cuadrilla de 2 personas es:  0.0\n"
     ]
    },
    {
     "data": {
      "image/png": "[encoded data removed]",
      "text/plain": [
       "<Figure size 432x288 with 1 Axes>"
      ]
     },
     "metadata": {},
     "output_type": "display_data"
    }
   ],
   "source": [
    "print('El valor medio de espera para una maquina con una cuadrilla de 2 personas es de', np.mean(tiempo_final2))\n",
    "resultmax = list(filter(lambda x: x>8, tiempo_final2))\n",
    "probmax=len(resultmax)/10000\n",
    "print('La probabilidad de que una máquina tenga que esperar más de 8 horas para ser reparada por una cuadrilla de 2 personas es: ',probmax)\n",
    "plt.hist(tiempo_final2)\n",
    "plt.show()\n"
   ]
  },
  {
   "cell_type": "code",
   "execution_count": 41,
   "metadata": {},
   "outputs": [
    {
     "name": "stdout",
     "output_type": "stream",
     "text": [
      "El valor medio de espera para una maquina con una cuadrilla de 2 personas es de 0.07285840007361136\n",
      "La probabilidad de que una máquina tenga que esperar más de 8 horas para ser reparada por una cuadrilla de 2 personas es:  0.0\n"
     ]
    },
    {
     "data": {
      "image/png": "[encoded data removed]",
      "text/plain": [
       "<Figure size 432x288 with 1 Axes>"
      ]
     },
     "metadata": {},
     "output_type": "display_data"
    }
   ],
   "source": [
    "print('El valor medio de espera para una maquina con una cuadrilla de 2 personas es de', np.mean(tiempo_final3))\n",
    "resultmax = list(filter(lambda x: x>3, tiempo_final3))\n",
    "probmax=len(resultmax)/10000\n",
    "print('La probabilidad de que una máquina tenga que esperar más de 8 horas para ser reparada por una cuadrilla de 2 personas es: ',probmax)\n",
    "plt.hist(tiempo_final3)\n",
    "plt.show()"
   ]
  },
  {
   "cell_type": "code",
   "execution_count": 43,
   "metadata": {},
   "outputs": [
    {
     "name": "stdout",
     "output_type": "stream",
     "text": [
      "El valor medio de espera para una maquina con una cuadrilla de 2 personas es de 0.0008309444612164278\n",
      "La probabilidad de que una máquina tenga que esperar más de 8 horas para ser reparada por una cuadrilla de 2 personas es:  0.0\n"
     ]
    },
    {
     "data": {
      "image/png": "[encoded data removed]",
      "text/plain": [
       "<Figure size 432x288 with 1 Axes>"
      ]
     },
     "metadata": {},
     "output_type": "display_data"
    }
   ],
   "source": [
    "print('El valor medio de espera para una maquina con una cuadrilla de 2 personas es de', np.mean(tiempo_final4))\n",
    "resultmax = list(filter(lambda x: x>8, tiempo_final4))\n",
    "probmax=len(resultmax)/10000\n",
    "print('La probabilidad de que una máquina tenga que esperar más de 8 horas para ser reparada por una cuadrilla de 2 personas es: ',probmax)\n",
    "plt.hist(tiempo_final4)\n",
    "plt.show()"
   ]
  },
  {
   "cell_type": "code",
   "execution_count": null,
   "metadata": {},
   "outputs": [],
   "source": []
  }
 ],
 "metadata": {
  "kernelspec": {
   "display_name": "Python 3",
   "language": "python",
   "name": "python3"
  },
  "language_info": {
   "codemirror_mode": {
    "name": "ipython",
    "version": 3
   },
   "file_extension": ".py",
   "mimetype": "text/x-python",
   "name": "python",
   "nbconvert_exporter": "python",
   "pygments_lexer": "ipython3",
   "version": "3.6.5"
  }
 },
 "nbformat": 4,
 "nbformat_minor": 2
}
